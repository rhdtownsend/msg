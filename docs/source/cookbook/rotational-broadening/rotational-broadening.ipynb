{
 "cells": [
  {
   "cell_type": "raw",
   "id": "c2b00ed3-9e2f-40f5-b9fa-890401747f5c",
   "metadata": {
    "editable": true,
    "raw_mimetype": "text/restructuredtext",
    "slideshow": {
     "slide_type": ""
    },
    "tags": []
   },
   "source": [
    ".. _cookbook-rot-broaden:\n",
    "\n",
    "Rotational Broadening\n",
    "=====================\n",
    "\n",
    "This :ref:`cookbook` recipe demonstrates how to synthesize a rotationally broadened irradiance spectrum, using the MSG Python interface. At first glance, this might seem to be a trivial task: simply convolve a non-rotating irradiance spectrum with a rotational broadening function. However, as discussed in chapter 17 of :ads_citet:`gray:2005`, such an approch rests on a number of assumptions:\n",
    "\n",
    "* that line profiles do not change shape across the stellar surface;\n",
    "* that limb darkening depends only weakly on wavelength;\n",
    "* that Doppler shifts arising from the rotational velocity fields can be represented as convolutions.\n",
    "\n",
    "While these assumptions are often reasonable, there are situations where they can lead to incorrect results. A better strategy is to use equation :math:numref:`eq:irrad`. \n",
    "\n",
    "Preparation\n",
    "-----------\n",
    "\n",
    "Download :download:`sg-HeI-6678.h5 <../downloads/sg-HeI-6678.h5>`\\ [#specgrid-file]_ and place it in your working directory. This :f-schema:`specgrid` file spans the HeI :math:`\\lambda6678\\,\\angstrom` line that will be the focus of our irradiance calculations.\n",
    "\n",
    "Initialization\n",
    "--------------\n",
    "\n",
    "To start, import modules and set other parameters:"
   ]
  },
  {
   "cell_type": "code",
   "execution_count": 1,
   "id": "2eb4244c",
   "metadata": {
    "editable": true,
    "slideshow": {
     "slide_type": ""
    },
    "tags": []
   },
   "outputs": [],
   "source": [
    "# Import standard modules\n",
    "\n",
    "import numpy as np\n",
    "import matplotlib.pyplot as plt\n",
    "import astropy.constants as con\n",
    "import scipy.io as si\n",
    "\n",
    "# Import pymsg\n",
    "\n",
    "import pymsg\n",
    "\n",
    "# Set constants\n",
    "\n",
    "M_SUN = con.M_sun.cgs.value\n",
    "R_SUN = con.R_sun.cgs.value\n",
    "G = con.G.cgs.value\n",
    "C = con.c.cgs.value\n",
    "PC = con.pc.cgs.value\n",
    "\n",
    "# Set plot parameters\n",
    "\n",
    "plt.rcParams.update({'font.size': 12})"
   ]
  },
  {
   "cell_type": "raw",
   "id": "0f4829f7-568c-49af-aa8c-802998894ba8",
   "metadata": {
    "editable": true,
    "raw_mimetype": "text/restructuredtext",
    "slideshow": {
     "slide_type": ""
    },
    "tags": []
   },
   "source": [
    "Define a Synthesis Function\n",
    "---------------------------\n",
    "\n",
    "Now let's create a function that synthesizes an irradiance spectrum for a rotating star. Neglecting any oblateness and gravity darkening due to the rotation, the area integral in equation :math:numref:`eq:irrad` can be transformed into a polar-coordinate integral over a unit disk:\n",
    "\n",
    ".. math::\n",
    "   :label: eq:irrad-disk-int\n",
    "\n",
    "   \\irrad(\\lambda) = \\frac{R^{2}}{d^{2}}\n",
    "   \\int_{0}^{2\\pi} \\int_{0}^{1} \\intsy(\\lambda; \\mu; \\vx; \\vproj) \\, \\rho \\, \\diff{\\rho} \\, \\diff\\phi, \n",
    "\n",
    "where :math:`R` is the stellar radius, :math:`\\rho` the polar radial coordinate, and :math:`\\phi` the polar angular coordinate, oriented so that the rotation axis lies along :math:`\\cos(\\phi) = 0`. The angle parameter :math:`\\mu` depends on disk position via\n",
    "\n",
    ".. math::\n",
    "\n",
    "   \\mu = \\cos\\left[ \\sin^{-1}(\\rho) \\right].\n",
    "\n",
    "Likewise, the projected velocity :math:`\\vproj` (appearing here as an additional argument of the specific intensity function) depends on position via\n",
    "\n",
    ".. math::\n",
    "\n",
    "  \\vproj = v \\sin(i) \\, \\rho \\, \\sin(\\phi),\n",
    "\n",
    "where :math:`v \\sin(i)` is the projected equatorial rotation velocity of the star.\n",
    "\n",
    "The :py:func:`synthesize_irradiance` function, defined below, implements equation :math:numref:`eq:irrad-disk-int` using a simple numerical quadrature scheme. It takes the following arguments:\n",
    "\n",
    "* :code:`specgrid` |---| :py:class:`pymsg.SpecGrid` object\n",
    "* :code:`lam` |---| wavelength abscissa (Å)\n",
    "* :code:`M` |---| stellar mass (:math:`\\Msun`)\n",
    "* :code:`R` |---| stellar mass (:math:`\\Rsun`)\n",
    "* :code:`Teff` |---| stellar effective temperature (K)\n",
    "* :code:`d` |---| distance to star (pc)\n",
    "* :code:`vsini` |---| projected equatorial velocity (km/s)\n",
    "* :code:`nrho` |---| number of :math:`\\rho` (radial) points in quadrature\n",
    "* :code:`nphi` |---| number of :math:`\\phi` (angular) points in quadrature"
   ]
  },
  {
   "cell_type": "code",
   "execution_count": 2,
   "id": "25ee1683-a67f-483d-8278-b021f2033714",
   "metadata": {
    "editable": true,
    "slideshow": {
     "slide_type": ""
    },
    "tags": []
   },
   "outputs": [],
   "source": [
    "def synthesize_irradiance(specgrid, lam, M, R, Teff, d, vsini, nrho=128, nphi=128):\n",
    "\n",
    "    # Set up a grid of rho and phi coordinates for the quadrature\n",
    "\n",
    "    drho = 1/nrho\n",
    "    dphi = 2*np.pi/nphi\n",
    "\n",
    "    rho, phi = np.meshgrid(np.linspace(drho/2, 1-drho/2, nrho), \n",
    "                           np.linspace(dphi/2, 2*np.pi-dphi/2, nphi))\n",
    "\n",
    "    # Evaluate mu (angle), dA_proj (projected area) and \n",
    "    # v_proj (projected velocity)\n",
    "\n",
    "    mu = np.cos(np.arcsin(rho))\n",
    "    dA_proj = ((rho + drho/2)**2 - (rho - drho/2)**2)*dphi/2\n",
    "    v_proj = vsini*1E5*rho*np.sin(phi)\n",
    "\n",
    "    # Evaluate dOmega (solid angle) and z (redshift) \n",
    "\n",
    "    dOmega = (R*R_SUN)**2/(d*PC)**2*dA_proj\n",
    "    z = v_proj/C\n",
    "\n",
    "    # Set up (uniform) photospheric parameters\n",
    "\n",
    "    x = {'Teff': np.full(nrho*nphi, Teff), \n",
    "         'log(g)': np.full(nrho*nphi, np.log10(G*M*M_SUN/(R*R_SUN)**2))}\n",
    "\n",
    "    # Synthesize the irradiance. The .flatten() calls are because\n",
    "    # MSG expects 1-D arrays\n",
    "\n",
    "    F_obs = specgrid.irradiance(x, mu.flatten(), dOmega.flatten(), z.flatten(), lam)\n",
    "\n",
    "    # Return the irradiance\n",
    "\n",
    "    return F_obs"
   ]
  },
  {
   "cell_type": "raw",
   "id": "4b4697b4-3500-4344-b904-366393dbe6d8",
   "metadata": {
    "editable": true,
    "raw_mimetype": "text/restructuredtext",
    "slideshow": {
     "slide_type": ""
    },
    "tags": []
   },
   "source": [
    "The function uses the following strategy:\n",
    "\n",
    "* divide the disk into a grid of :code:`nrho` by :code:`nphi` quadrature elements; \n",
    "* evaluate angle parameters :code:`mu`, projected areas :code:`dA_proj` and projected velocities :code:`v_proj` of the elements;\n",
    "* evaluate corresponding solid angles :code:`dOmega` and redshifts :code:`z` (as viewed from the observer at distance :code:`d`);\n",
    "* pass :code:`mu`, :code:`dOmega` and :code:`z`, together with photospheric parameters :code:`x` and wavelength abscissa :code:`lam`, to the :py:meth:`pymsg.SpecGrid.irradiance` method, which sums the constribution of each element toward the irradiance.\n",
    "\n",
    "Evaluate the Irradiance\n",
    "-----------------------\n",
    "\n",
    "Use the :py:func:`synthesize_irradiance` function, evaluate the irradiance spectrum spanning the HeI :math:`\\lambda6678\\,\\angstrom` line profile for a B2 main-sequence star:"
   ]
  },
  {
   "cell_type": "code",
   "execution_count": 3,
   "id": "54df2467-6dee-4cbe-b4fe-d50c400d1331",
   "metadata": {
    "editable": true,
    "slideshow": {
     "slide_type": ""
    },
    "tags": []
   },
   "outputs": [],
   "source": [
    "# Create the SpecGrid object\n",
    "\n",
    "specgrid = pymsg.SpecGrid('sg-HeI-6678.h5')\n",
    "\n",
    "# Set up parameters (mass, radius and effective temperature from Wikipedia,\n",
    "# https://en.wikipedia.org/wiki/B-type_main-sequence_star; the choices of \n",
    "# vsini and distance are arbitrary)\n",
    "\n",
    "M = 7.30\n",
    "R = 4.06\n",
    "Teff = 20600.\n",
    "vsini = 100\n",
    "d = 10\n",
    "\n",
    "# Set up the wavelength abscissa\n",
    "\n",
    "lam = np.linspace(6670, 6690, 201)\n",
    "lam_c = 0.5*(lam[:-1] + lam[1:])\n",
    "\n",
    "# Evaluate the irradiance spectrum\n",
    "\n",
    "F_obs = synthesize_irradiance(specgrid, lam, M, R, Teff, d, vsini)"
   ]
  },
  {
   "cell_type": "raw",
   "id": "48829726-45f8-48c9-809c-23a80a773426",
   "metadata": {
    "editable": true,
    "raw_mimetype": "text/restructuredtext",
    "slideshow": {
     "slide_type": ""
    },
    "tags": []
   },
   "source": [
    "Plot the Irradiance\n",
    "-------------------\n",
    "\n",
    "As a final step, plot the irradiance spectrum:"
   ]
  },
  {
   "cell_type": "code",
   "execution_count": 4,
   "id": "5e460a32-bdb0-4c8d-a3b5-1fe918c8d013",
   "metadata": {
    "editable": true,
    "slideshow": {
     "slide_type": ""
    },
    "tags": []
   },
   "outputs": [
    {
     "data": {
      "image/png": "[encoded data removed]",
      "text/plain": [
       "<Figure size 640x480 with 1 Axes>"
      ]
     },
     "metadata": {},
     "output_type": "display_data"
    }
   ],
   "source": [
    "# Plot the irradiance spectrum\n",
    "\n",
    "plt.figure()\n",
    "\n",
    "plt.plot(lam_c, F_obs)\n",
    "plt.xlim(6670, 6690)\n",
    "\n",
    "plt.xlabel(r'$\\lambda ({\\AA})$')\n",
    "plt.ylabel(r'$F^{\\mathrm{obs}}_{\\lambda}\\ ({\\rm erg\\,cm^{-2}\\,s^{-1}}\\,\\AA^{-1})$');"
   ]
  },
  {
   "cell_type": "raw",
   "id": "4467201c-0aa1-4c3d-8e95-ebcba7edd994",
   "metadata": {
    "editable": true,
    "raw_mimetype": "text/restructuredtext",
    "slideshow": {
     "slide_type": ""
    },
    "tags": []
   },
   "source": [
    "This figure shows the characteristically rounded shape due to rotation broadening. Note that the line center is around :math:`6680\\,\\angstrom`, rather than :math:`6678\\,\\angstrom`, because the :file:`sg-HeI-6678.h5` grid adopts vacuum rather than air wavelengths.\n",
    "\n",
    ".. rubric:: Footnotes\n",
    "\n",
    ".. [#specgrid-file] Generated by applying the :command:`subset_specgrid` tool to the high-resolution `BSTAR2006 grid <http://user.astro.wisc.edu/~townsend/static.php?ref=msg-grids#BSTAR2006_Grids>`__."
   ]
  }
 ],
 "metadata": {
  "celltoolbar": "Raw Cell Format",
  "kernelspec": {
   "display_name": "Python 3 (ipykernel)",
   "language": "python",
   "name": "python3"
  },
  "language_info": {
   "codemirror_mode": {
    "name": "ipython",
    "version": 3
   },
   "file_extension": ".py",
   "mimetype": "text/x-python",
   "name": "python",
   "nbconvert_exporter": "python",
   "pygments_lexer": "ipython3",
   "version": "3.12.2"
  }
 },
 "nbformat": 4,
 "nbformat_minor": 5
}
